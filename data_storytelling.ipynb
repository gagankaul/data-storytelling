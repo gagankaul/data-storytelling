{
  "nbformat": 4,
  "nbformat_minor": 0,
  "metadata": {
    "colab": {
      "provenance": [],
      "authorship_tag": "ABX9TyM4zgZD2yXwikXujr+VqwvW",
      "include_colab_link": true
    },
    "kernelspec": {
      "name": "python3",
      "display_name": "Python 3"
    },
    "language_info": {
      "name": "python"
    }
  },
  "cells": [
    {
      "cell_type": "markdown",
      "metadata": {
        "id": "view-in-github",
        "colab_type": "text"
      },
      "source": [
        "<a href=\"https://colab.research.google.com/github/gagankaul/data-storytelling/blob/main/data_storytelling.ipynb\" target=\"_parent\"><img src=\"https://colab.research.google.com/assets/colab-badge.svg\" alt=\"Open In Colab\"/></a>"
      ]
    },
    {
      "cell_type": "markdown",
      "source": [
        "# Web Scraping with Python\n",
        "\n",
        "A program to practice web scraping using Python."
      ],
      "metadata": {
        "id": "Z7XyXT2Uqv37"
      }
    },
    {
      "cell_type": "code",
      "execution_count": null,
      "metadata": {
        "id": "ZnrBt7SsqPPJ"
      },
      "outputs": [],
      "source": []
    },
    {
      "cell_type": "markdown",
      "source": [
        "## Ingest"
      ],
      "metadata": {
        "id": "D7ylj70jrFk5"
      }
    },
    {
      "cell_type": "code",
      "source": [],
      "metadata": {
        "id": "tC4hI0CfrIdx"
      },
      "execution_count": null,
      "outputs": []
    },
    {
      "cell_type": "markdown",
      "source": [
        "## EDA"
      ],
      "metadata": {
        "id": "1u1Wpi6crKOg"
      }
    },
    {
      "cell_type": "code",
      "source": [],
      "metadata": {
        "id": "LvmyOKk6rMS5"
      },
      "execution_count": null,
      "outputs": []
    },
    {
      "cell_type": "markdown",
      "source": [
        "## Modeling"
      ],
      "metadata": {
        "id": "Kivsn92xrOCZ"
      }
    },
    {
      "cell_type": "code",
      "source": [],
      "metadata": {
        "id": "X6g9Kqm2rPoe"
      },
      "execution_count": null,
      "outputs": []
    },
    {
      "cell_type": "markdown",
      "source": [
        "## Conclusion"
      ],
      "metadata": {
        "id": "pYwGjQMkrQaY"
      }
    },
    {
      "cell_type": "code",
      "source": [],
      "metadata": {
        "id": "VJaQrUOwrSlw"
      },
      "execution_count": null,
      "outputs": []
    }
  ]
}